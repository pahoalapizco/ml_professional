{
 "cells": [
  {
   "cell_type": "markdown",
   "id": "02d3cef4",
   "metadata": {},
   "source": [
    "# Optimización parámetrica"
   ]
  },
  {
   "cell_type": "markdown",
   "id": "72af6a86",
   "metadata": {},
   "source": [
    "**Problema a resolver**\n",
    "- Se encontró el modelo de machine learning que parece funcionar.\n",
    "- Pero…. Es necesario optimizar el modelo y encontrar los mejores parámetros, y así mejorar las métricas.\n",
    "\n",
    "\n",
    "⚠️ Los modelos en Scikit-Learn tienen bastantes parámetros para configurar dichos modelos, por lo cuál es fácil perdernos y bastante difícil medir la sensibilidad de los mismos manualmente.\n",
    "\n",
    "\n",
    "**Enfoques de Optimización Parámetrica**\n",
    "1. **Optimización por matriz de parámetros** (`GridSearchCV`) <br>\n",
    "📢 Utilizar cuando se quiere hacer una prueba a fondo, y se cuente con el tiempo y poder de procesamiento.\n",
    "    1. Definir una o varias métricas a optimizar.\n",
    "    2. Identificar posibles valores para los parámetros.\n",
    "    3. Crear un diccionario de parámetros.\n",
    "    4. Usar Cross Validation.\n",
    "    5. Entrenar el modelo.\n",
    "\n",
    "\t> 💡 Opción sistemática, organizada y exhaustiva que nos dice cuál es la mejor combinación de parámetros y valores para entrenar al modelo.\n",
    "\n",
    "2. **Optimización por búsqueda aleatoria** (`RandomizedSearchCV`) <br>\n",
    "📢 Utilizar cuando se quieran explorar posibles optimizaciones, o cuando se tenga poco poder de procesamiento.\n",
    "    1. Definir una o varias métricas a optimizar.\n",
    "    2. Identificar el rango de valores que pueden tomar los parámetros.\n",
    "    3. Crear diccionario con los rangos.\n",
    "    4. Usar Cross Validation. \n",
    "    5. Entrenar el modelo.\n",
    "\n",
    "\t> 💡 Ideal para cuando no se tiene el tiempo para implementar `GridSearchCV`."
   ]
  },
  {
   "cell_type": "markdown",
   "id": "f183c6b9",
   "metadata": {},
   "source": [
    "## Implementación"
   ]
  },
  {
   "cell_type": "markdown",
   "id": "07fa83f2",
   "metadata": {},
   "source": [
    "Librerias:"
   ]
  },
  {
   "cell_type": "code",
   "execution_count": 1,
   "id": "4e03e6a9",
   "metadata": {},
   "outputs": [],
   "source": [
    "import pandas as pd\n",
    "import matplotlib.pyplot as plt\n",
    "import seaborn as sns\n",
    "\n",
    "from sklearn.ensemble import RandomForestRegressor # Meta estimador a optimizar\n",
    "from sklearn.model_selection import RandomizedSearchCV, GridSearchCV # Opimizador por búsqueda aleatoria"
   ]
  },
  {
   "cell_type": "code",
   "execution_count": 2,
   "id": "d323cb42",
   "metadata": {},
   "outputs": [],
   "source": [
    "%run 0.0-ml_professional-setup.ipynb"
   ]
  },
  {
   "cell_type": "markdown",
   "id": "516b958e",
   "metadata": {},
   "source": [
    "Carga del dataset `World Happiness` (2017)."
   ]
  },
  {
   "cell_type": "code",
   "execution_count": 3,
   "id": "b124bc99",
   "metadata": {},
   "outputs": [
    {
     "data": {
      "text/html": [
       "<div>\n",
       "<style scoped>\n",
       "    .dataframe tbody tr th:only-of-type {\n",
       "        vertical-align: middle;\n",
       "    }\n",
       "\n",
       "    .dataframe tbody tr th {\n",
       "        vertical-align: top;\n",
       "    }\n",
       "\n",
       "    .dataframe thead th {\n",
       "        text-align: right;\n",
       "    }\n",
       "</style>\n",
       "<table border=\"1\" class=\"dataframe\">\n",
       "  <thead>\n",
       "    <tr style=\"text-align: right;\">\n",
       "      <th></th>\n",
       "      <th>country</th>\n",
       "      <th>rank</th>\n",
       "      <th>score</th>\n",
       "      <th>high</th>\n",
       "      <th>low</th>\n",
       "      <th>gdp</th>\n",
       "      <th>family</th>\n",
       "      <th>lifexp</th>\n",
       "      <th>freedom</th>\n",
       "      <th>generosity</th>\n",
       "      <th>corruption</th>\n",
       "      <th>dystopia</th>\n",
       "    </tr>\n",
       "  </thead>\n",
       "  <tbody>\n",
       "    <tr>\n",
       "      <th>0</th>\n",
       "      <td>Norway</td>\n",
       "      <td>1</td>\n",
       "      <td>7.537</td>\n",
       "      <td>7.594445</td>\n",
       "      <td>7.479556</td>\n",
       "      <td>1.616463</td>\n",
       "      <td>1.533524</td>\n",
       "      <td>0.796667</td>\n",
       "      <td>0.635423</td>\n",
       "      <td>0.362012</td>\n",
       "      <td>0.315964</td>\n",
       "      <td>2.277027</td>\n",
       "    </tr>\n",
       "    <tr>\n",
       "      <th>1</th>\n",
       "      <td>Denmark</td>\n",
       "      <td>2</td>\n",
       "      <td>7.522</td>\n",
       "      <td>7.581728</td>\n",
       "      <td>7.462272</td>\n",
       "      <td>1.482383</td>\n",
       "      <td>1.551122</td>\n",
       "      <td>0.792566</td>\n",
       "      <td>0.626007</td>\n",
       "      <td>0.355280</td>\n",
       "      <td>0.400770</td>\n",
       "      <td>2.313707</td>\n",
       "    </tr>\n",
       "    <tr>\n",
       "      <th>2</th>\n",
       "      <td>Iceland</td>\n",
       "      <td>3</td>\n",
       "      <td>7.504</td>\n",
       "      <td>7.622030</td>\n",
       "      <td>7.385970</td>\n",
       "      <td>1.480633</td>\n",
       "      <td>1.610574</td>\n",
       "      <td>0.833552</td>\n",
       "      <td>0.627163</td>\n",
       "      <td>0.475540</td>\n",
       "      <td>0.153527</td>\n",
       "      <td>2.322715</td>\n",
       "    </tr>\n",
       "    <tr>\n",
       "      <th>3</th>\n",
       "      <td>Switzerland</td>\n",
       "      <td>4</td>\n",
       "      <td>7.494</td>\n",
       "      <td>7.561772</td>\n",
       "      <td>7.426227</td>\n",
       "      <td>1.564980</td>\n",
       "      <td>1.516912</td>\n",
       "      <td>0.858131</td>\n",
       "      <td>0.620071</td>\n",
       "      <td>0.290549</td>\n",
       "      <td>0.367007</td>\n",
       "      <td>2.276716</td>\n",
       "    </tr>\n",
       "    <tr>\n",
       "      <th>4</th>\n",
       "      <td>Finland</td>\n",
       "      <td>5</td>\n",
       "      <td>7.469</td>\n",
       "      <td>7.527542</td>\n",
       "      <td>7.410458</td>\n",
       "      <td>1.443572</td>\n",
       "      <td>1.540247</td>\n",
       "      <td>0.809158</td>\n",
       "      <td>0.617951</td>\n",
       "      <td>0.245483</td>\n",
       "      <td>0.382612</td>\n",
       "      <td>2.430182</td>\n",
       "    </tr>\n",
       "  </tbody>\n",
       "</table>\n",
       "</div>"
      ],
      "text/plain": [
       "       country  rank  score      high       low       gdp    family    lifexp  \\\n",
       "0       Norway     1  7.537  7.594445  7.479556  1.616463  1.533524  0.796667   \n",
       "1      Denmark     2  7.522  7.581728  7.462272  1.482383  1.551122  0.792566   \n",
       "2      Iceland     3  7.504  7.622030  7.385970  1.480633  1.610574  0.833552   \n",
       "3  Switzerland     4  7.494  7.561772  7.426227  1.564980  1.516912  0.858131   \n",
       "4      Finland     5  7.469  7.527542  7.410458  1.443572  1.540247  0.809158   \n",
       "\n",
       "    freedom  generosity  corruption  dystopia  \n",
       "0  0.635423    0.362012    0.315964  2.277027  \n",
       "1  0.626007    0.355280    0.400770  2.313707  \n",
       "2  0.627163    0.475540    0.153527  2.322715  \n",
       "3  0.620071    0.290549    0.367007  2.276716  \n",
       "4  0.617951    0.245483    0.382612  2.430182  "
      ]
     },
     "execution_count": 3,
     "metadata": {},
     "output_type": "execute_result"
    }
   ],
   "source": [
    "file_path = path.data_raw_dir(\"2017.csv\")\n",
    "df = pd.read_csv(file_path)\n",
    "df.columns = [\"country\",\"rank\",\"score\",\"high\",\"low\",\"gdp\",\"family\",\"lifexp\",\"freedom\",\"generosity\",\"corruption\",\"dystopia\"]\n",
    "df.head()"
   ]
  },
  {
   "cell_type": "markdown",
   "id": "6cf65a39",
   "metadata": {},
   "source": [
    "Quitamos las variables categorícas y creamos un dataset con los features y otro con los targets.\n",
    "\n",
    "\n",
    "📌 Eliminamos el feature `rank` del dataset ya que esta fuertemente correlacionada con el target `score` (describe los mismo), incluirla en el entrenamiento podría generar sesgos."
   ]
  },
  {
   "cell_type": "code",
   "execution_count": 4,
   "id": "2fd642e5",
   "metadata": {},
   "outputs": [],
   "source": [
    "X = df.drop(columns=[\"country\", \"score\", \"rank\"], axis=1)\n",
    "y = df[\"score\"]"
   ]
  },
  {
   "cell_type": "markdown",
   "id": "97274eda",
   "metadata": {},
   "source": [
    "### `RandomizedSearchCV`"
   ]
  },
  {
   "cell_type": "markdown",
   "id": "443a8e58",
   "metadata": {},
   "source": [
    "Configuramos el optimizador:\n",
    "\n",
    "Parámetros de `RandomForestRegressor` a optimizar:\n",
    "- `n_estimators`: Número de árboles de decisión que van a componer el \"bosque aleatorio\".\n",
    "- `criterion`: Medida de calidad de los splits hacen los árboles generados. Nos dice que tan bueno o malo es.\n",
    "- `max_depth`: Profundidad de lo árboles.\n",
    "\n",
    "\n",
    "Parámetros del optimizador:\n",
    "-\t`estimator`: Instancia del estimador/modelo que queremos optimizar.\n",
    "- `param_distributions`: Diccionario de parámetros a optimizar.\n",
    "- `n_iter`: Número máximo de muestreos que hace sobre los parámetros.\n",
    "- `cv`: Cross Validation, número de folds para `KFold`.\n",
    "- `scoring`: Medir la presición del modelo."
   ]
  },
  {
   "cell_type": "code",
   "execution_count": 5,
   "id": "8d6afa04",
   "metadata": {},
   "outputs": [],
   "source": [
    "# Estimador\n",
    "reg = RandomForestRegressor()\n",
    "\n",
    "# Parámetros a optimizar a partir de un determinado rango\n",
    "params = {\n",
    "\t\"n_estimators\": range(4, 16),\n",
    "\t\"criterion\": [\"squared_error\", \"absolute_error\"],\n",
    "\t\"max_depth\": range(2, 10)\n",
    "}\n",
    "\n",
    "# Generamos la optimización\n",
    "rand_est = RandomizedSearchCV(estimator=reg, param_distributions=params, n_iter=10, cv=3, scoring=\"neg_mean_absolute_error\").fit(X, y)"
   ]
  },
  {
   "cell_type": "markdown",
   "id": "a7592f2a",
   "metadata": {},
   "source": [
    "¿Cuál fue el mejor estimador? y ¿Cuáles fueron los mejores parámetros?"
   ]
  },
  {
   "cell_type": "code",
   "execution_count": 6,
   "id": "76460164",
   "metadata": {},
   "outputs": [
    {
     "name": "stdout",
     "output_type": "stream",
     "text": [
      "Mejor estimador: RandomForestRegressor(criterion='absolute_error', max_depth=7, n_estimators=14)\n",
      "Mejores parámetros: {'n_estimators': 14, 'max_depth': 7, 'criterion': 'absolute_error'}\n",
      "Predicción: [7.50571428]\n",
      "Valor real: 7.53700017929077\n"
     ]
    }
   ],
   "source": [
    "print(\"Mejor estimador:\", rand_est.best_estimator_)\n",
    "print(\"Mejores parámetros:\", rand_est.best_params_)\n",
    "\n",
    "# Probamos la predicciones\n",
    "print(\"Predicción:\", rand_est.predict(X.iloc[[0]]))\n",
    "print(\"Valor real:\", y[0])"
   ]
  },
  {
   "cell_type": "markdown",
   "id": "7a39703b",
   "metadata": {},
   "source": [
    "### `GridSearchCV`"
   ]
  },
  {
   "cell_type": "markdown",
   "id": "d1ca4e43",
   "metadata": {},
   "source": [
    "Para el mismo meta estimador `Random Forest`, pero utilizando el optimizador Grid Search. Los parámetros a optimizar son los mismos que en Randomized Search, sin embargo en lugar de enviarle un rango de posibles valores, le mandamos un array con los valores a testear."
   ]
  },
  {
   "cell_type": "code",
   "execution_count": 7,
   "id": "62cda0ff",
   "metadata": {},
   "outputs": [],
   "source": [
    "# Estimador\n",
    "reg_gs = RandomForestRegressor()\n",
    "\n",
    "# Parámetros a optimizar a partir de un determinado rango\n",
    "params_gs = {\n",
    "\t\"n_estimators\": [4, 8, 15],\n",
    "\t\"criterion\": [\"squared_error\", \"absolute_error\"],\n",
    "\t\"max_depth\": [2, 4, 6, 8, 10]\n",
    "}\n",
    "\n",
    "gs_est = GridSearchCV(estimator=reg_gs, param_grid=params_gs, scoring=\"neg_mean_squared_error\", cv=3).fit(X, y)"
   ]
  },
  {
   "cell_type": "markdown",
   "id": "819feb53",
   "metadata": {},
   "source": [
    "Verificamos cuál fue el mejor estimador y os mejores parámetros:"
   ]
  },
  {
   "cell_type": "code",
   "execution_count": 8,
   "id": "468219ab",
   "metadata": {},
   "outputs": [
    {
     "name": "stdout",
     "output_type": "stream",
     "text": [
      "Mejor estimador: RandomForestRegressor(criterion='absolute_error', max_depth=10, n_estimators=8)\n",
      "Mejores parámetros: {'criterion': 'absolute_error', 'max_depth': 10, 'n_estimators': 8}\n",
      "Predicción: [7.50750011]\n",
      "Valor real: 7.53700017929077\n"
     ]
    }
   ],
   "source": [
    "print(\"Mejor estimador:\", gs_est.best_estimator_)\n",
    "print(\"Mejores parámetros:\", gs_est.best_params_)\n",
    "\n",
    "# Probamos la predicciones\n",
    "print(\"Predicción:\", gs_est.predict(X.iloc[[0]]))\n",
    "print(\"Valor real:\", y[0])"
   ]
  },
  {
   "cell_type": "markdown",
   "id": "ba948047",
   "metadata": {},
   "source": [
    "Tanto `RandomizedSearchCV`  como `GridSearchCV` nos permiten encontrar la mejor configuración para un modelo de manera semi-automatizada."
   ]
  }
 ],
 "metadata": {
  "kernelspec": {
   "display_name": "ml_professional",
   "language": "python",
   "name": "python3"
  },
  "language_info": {
   "codemirror_mode": {
    "name": "ipython",
    "version": 3
   },
   "file_extension": ".py",
   "mimetype": "text/x-python",
   "name": "python",
   "nbconvert_exporter": "python",
   "pygments_lexer": "ipython3",
   "version": "3.12.9"
  }
 },
 "nbformat": 4,
 "nbformat_minor": 5
}
