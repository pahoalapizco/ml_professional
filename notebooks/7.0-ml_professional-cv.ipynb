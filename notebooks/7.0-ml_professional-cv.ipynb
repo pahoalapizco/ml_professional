{
 "cells": [
  {
   "cell_type": "markdown",
   "id": "a4529220",
   "metadata": {},
   "source": [
    "# Validación Cruzada"
   ]
  },
  {
   "cell_type": "markdown",
   "id": "20e01a09",
   "metadata": {},
   "source": [
    "📌 La validación del modelo forma parte de las ultimas etapas del proceso de Machine Learning, una vez entrenado el modelo, éste debe evaluarse para saber que tan bueno es, si sus predicciones son de calidad o si esta sesgado.\n",
    "\n",
    "**Tipos de validación**\n",
    "\n",
    "**Hold-on** <br>\n",
    "Dividir los datos en entrenamiento (80%) y pruebas (20%).\n",
    "\n",
    "**Usarla cuando**\n",
    "- Se requiere un prototipo rápido.\n",
    "- No se tiene mucho conocimiento (principiante).\n",
    "- No se tiene suficiente poder de cómputo para utilizar otro tipo de validación.\n",
    "\n",
    "📌 **NOTA**: Hold-on ha sido el método de validación en los modelos anteriores.\n",
    "\n",
    "<hr />\n",
    "\n",
    "**Validación cruzada** (cross-validation) <br>\n",
    "\n",
    "🎯 Asegurar que todos los puntos de datos tengan la oportunidad de pertenecer al conjunto de prueba, y promediar el rendimiento en multiples “pliegues” (folds). \n",
    "\n",
    "- `K-Folds`: Divide los datos en `K` subconjuntos del mismo tamaño.\n",
    "    - Se itera `K` veces, y en cada iteración se selecciona un pliegue para el conjunto de pruebas (validación).\n",
    "    - Los `K-1` pliegues restantes se utilizan para entrenar al modelo.\n",
    "    - Al final de promedian las métricas de los entrenamiento en `K` iteraciones.\n",
    "    \n",
    "    **Usarla cuando**\n",
    "    \n",
    "    - Se requiere integrar con técnicas de optimización parámetrica.\n",
    "    - Se cuenta con más tiempo para realizar las pruebas.\n",
    "    - Se cuenta con el equipo de computo suficiente para realizar desarrollar ML.\n",
    "\n",
    "<div style=\"margin-left: 50px\">\n",
    "\t<img src=\"../imgs/cv-kfolds.png\" />\n",
    "</div>\n",
    "\n",
    "- `LOOCV`(Leave-One-Out cross validation): Caso extremo de `K-Folds`, donde `K` es igual al número total de muestras del dataset (`N`).\n",
    "💡 Esto quiere decir que si el dataset tiene 10,000 filas, `LOOCV` tendrá 10,000 iteraciones = 10,000 entrenamientos.\n",
    "    - En cada iteración se toma una única muestra como conjunto de pruebas (validación).\n",
    "    - Las `N-1` muestras se utilizan como conjunto de entrenamiento.\n",
    "    - El proceso se repite `N` veces.\n",
    "    - El rendimiento final se promedia sobre las `N` iteraciones.\n",
    "    \n",
    "    **Usarla cuando**    \n",
    "    - Se tiene gran poder de cómputo.\n",
    "    - Se cuentan con pocos datos para dividirlos en test/train.\n",
    "\n",
    "<div style=\"margin-left: 50px\">\n",
    "\t<img src=\"../imgs/cv-loocv.png\" />\n",
    "</div>"
   ]
  },
  {
   "cell_type": "markdown",
   "id": "aaf39e03",
   "metadata": {},
   "source": [
    "## Implementación"
   ]
  },
  {
   "cell_type": "markdown",
   "id": "339e8aa0",
   "metadata": {},
   "source": [
    "Librerias"
   ]
  },
  {
   "cell_type": "code",
   "execution_count": 1,
   "id": "c0d12dcd",
   "metadata": {},
   "outputs": [],
   "source": [
    "import pandas as pd\n",
    "import numpy as np\n",
    "\n",
    "# Modelo \n",
    "from sklearn.tree import DecisionTreeRegressor\n",
    "\n",
    "# Validación cruzada\n",
    "from sklearn.model_selection import cross_val_score, KFold, LeaveOneOut"
   ]
  },
  {
   "cell_type": "code",
   "execution_count": 2,
   "id": "f877998d",
   "metadata": {},
   "outputs": [],
   "source": [
    "%run 0.0-ml_professional-setup.ipynb"
   ]
  },
  {
   "cell_type": "markdown",
   "id": "bed60866",
   "metadata": {},
   "source": [
    "Carga del dataset `World Happiness` (2017)."
   ]
  },
  {
   "cell_type": "code",
   "execution_count": 3,
   "id": "59473294",
   "metadata": {},
   "outputs": [
    {
     "data": {
      "text/html": [
       "<div>\n",
       "<style scoped>\n",
       "    .dataframe tbody tr th:only-of-type {\n",
       "        vertical-align: middle;\n",
       "    }\n",
       "\n",
       "    .dataframe tbody tr th {\n",
       "        vertical-align: top;\n",
       "    }\n",
       "\n",
       "    .dataframe thead th {\n",
       "        text-align: right;\n",
       "    }\n",
       "</style>\n",
       "<table border=\"1\" class=\"dataframe\">\n",
       "  <thead>\n",
       "    <tr style=\"text-align: right;\">\n",
       "      <th></th>\n",
       "      <th>country</th>\n",
       "      <th>rank</th>\n",
       "      <th>score</th>\n",
       "      <th>high</th>\n",
       "      <th>low</th>\n",
       "      <th>gdp</th>\n",
       "      <th>family</th>\n",
       "      <th>lifexp</th>\n",
       "      <th>freedom</th>\n",
       "      <th>generosity</th>\n",
       "      <th>corruption</th>\n",
       "      <th>dystopia</th>\n",
       "    </tr>\n",
       "  </thead>\n",
       "  <tbody>\n",
       "    <tr>\n",
       "      <th>0</th>\n",
       "      <td>Norway</td>\n",
       "      <td>1</td>\n",
       "      <td>7.537</td>\n",
       "      <td>7.594445</td>\n",
       "      <td>7.479556</td>\n",
       "      <td>1.616463</td>\n",
       "      <td>1.533524</td>\n",
       "      <td>0.796667</td>\n",
       "      <td>0.635423</td>\n",
       "      <td>0.362012</td>\n",
       "      <td>0.315964</td>\n",
       "      <td>2.277027</td>\n",
       "    </tr>\n",
       "    <tr>\n",
       "      <th>1</th>\n",
       "      <td>Denmark</td>\n",
       "      <td>2</td>\n",
       "      <td>7.522</td>\n",
       "      <td>7.581728</td>\n",
       "      <td>7.462272</td>\n",
       "      <td>1.482383</td>\n",
       "      <td>1.551122</td>\n",
       "      <td>0.792566</td>\n",
       "      <td>0.626007</td>\n",
       "      <td>0.355280</td>\n",
       "      <td>0.400770</td>\n",
       "      <td>2.313707</td>\n",
       "    </tr>\n",
       "    <tr>\n",
       "      <th>2</th>\n",
       "      <td>Iceland</td>\n",
       "      <td>3</td>\n",
       "      <td>7.504</td>\n",
       "      <td>7.622030</td>\n",
       "      <td>7.385970</td>\n",
       "      <td>1.480633</td>\n",
       "      <td>1.610574</td>\n",
       "      <td>0.833552</td>\n",
       "      <td>0.627163</td>\n",
       "      <td>0.475540</td>\n",
       "      <td>0.153527</td>\n",
       "      <td>2.322715</td>\n",
       "    </tr>\n",
       "    <tr>\n",
       "      <th>3</th>\n",
       "      <td>Switzerland</td>\n",
       "      <td>4</td>\n",
       "      <td>7.494</td>\n",
       "      <td>7.561772</td>\n",
       "      <td>7.426227</td>\n",
       "      <td>1.564980</td>\n",
       "      <td>1.516912</td>\n",
       "      <td>0.858131</td>\n",
       "      <td>0.620071</td>\n",
       "      <td>0.290549</td>\n",
       "      <td>0.367007</td>\n",
       "      <td>2.276716</td>\n",
       "    </tr>\n",
       "    <tr>\n",
       "      <th>4</th>\n",
       "      <td>Finland</td>\n",
       "      <td>5</td>\n",
       "      <td>7.469</td>\n",
       "      <td>7.527542</td>\n",
       "      <td>7.410458</td>\n",
       "      <td>1.443572</td>\n",
       "      <td>1.540247</td>\n",
       "      <td>0.809158</td>\n",
       "      <td>0.617951</td>\n",
       "      <td>0.245483</td>\n",
       "      <td>0.382612</td>\n",
       "      <td>2.430182</td>\n",
       "    </tr>\n",
       "  </tbody>\n",
       "</table>\n",
       "</div>"
      ],
      "text/plain": [
       "       country  rank  score      high       low       gdp    family    lifexp  \\\n",
       "0       Norway     1  7.537  7.594445  7.479556  1.616463  1.533524  0.796667   \n",
       "1      Denmark     2  7.522  7.581728  7.462272  1.482383  1.551122  0.792566   \n",
       "2      Iceland     3  7.504  7.622030  7.385970  1.480633  1.610574  0.833552   \n",
       "3  Switzerland     4  7.494  7.561772  7.426227  1.564980  1.516912  0.858131   \n",
       "4      Finland     5  7.469  7.527542  7.410458  1.443572  1.540247  0.809158   \n",
       "\n",
       "    freedom  generosity  corruption  dystopia  \n",
       "0  0.635423    0.362012    0.315964  2.277027  \n",
       "1  0.626007    0.355280    0.400770  2.313707  \n",
       "2  0.627163    0.475540    0.153527  2.322715  \n",
       "3  0.620071    0.290549    0.367007  2.276716  \n",
       "4  0.617951    0.245483    0.382612  2.430182  "
      ]
     },
     "execution_count": 3,
     "metadata": {},
     "output_type": "execute_result"
    }
   ],
   "source": [
    "file_path = path.data_raw_dir(\"2017.csv\")\n",
    "df = pd.read_csv(file_path)\n",
    "df.columns = [\"country\",\"rank\",\"score\",\"high\",\"low\",\"gdp\",\"family\",\"lifexp\",\"freedom\",\"generosity\",\"corruption\",\"dystopia\"]\n",
    "df.head()"
   ]
  },
  {
   "cell_type": "markdown",
   "id": "84b8792b",
   "metadata": {},
   "source": [
    "Quitamos las variables categorícas y creamos un dataset con los features y otro con los targets."
   ]
  },
  {
   "cell_type": "code",
   "execution_count": 4,
   "id": "267bb045",
   "metadata": {},
   "outputs": [
    {
     "name": "stdout",
     "output_type": "stream",
     "text": [
      "X: (155, 10)\n",
      "y: (155,)\n"
     ]
    }
   ],
   "source": [
    "X = df.drop(columns=[\"country\", \"score\"], axis=1)\n",
    "y = df[\"score\"]\n",
    "\n",
    "print(f\"X: {X.shape}\")\n",
    "print(f\"y: {y.shape}\")"
   ]
  },
  {
   "cell_type": "markdown",
   "id": "f37786b3",
   "metadata": {},
   "source": [
    "### K-Folds "
   ]
  },
  {
   "cell_type": "code",
   "execution_count": 5,
   "id": "56aee7d9",
   "metadata": {},
   "outputs": [
    {
     "name": "stdout",
     "output_type": "stream",
     "text": [
      "0.20104697347549302\n"
     ]
    }
   ],
   "source": [
    "# Instancia del modelo \n",
    "model_kf = DecisionTreeRegressor()\n",
    "\n",
    "# Aplicamos validación cruzada con 5 folds\n",
    "scores = cross_val_score(model_kf, X, y, cv=5, scoring=\"neg_mean_squared_error\")\n",
    "print(np.abs(np.mean(scores)))"
   ]
  },
  {
   "cell_type": "markdown",
   "id": "ae1afcc8",
   "metadata": {},
   "source": [
    "Utilizamos la instancia de `KFolds` como el método de validación para el modelo."
   ]
  },
  {
   "cell_type": "code",
   "execution_count": 6,
   "id": "c81b6bd4",
   "metadata": {},
   "outputs": [
    {
     "name": "stdout",
     "output_type": "stream",
     "text": [
      "0.004446385725487936\n"
     ]
    }
   ],
   "source": [
    "kf = KFold(n_splits=5, shuffle=True, random_state=42)\n",
    "scores = cross_val_score(model_kf, X, y, cv=kf, scoring=\"neg_mean_squared_error\")\n",
    "\n",
    "print(np.abs(np.mean(scores)) )"
   ]
  },
  {
   "cell_type": "markdown",
   "id": "8334bab7",
   "metadata": {},
   "source": [
    "Al utilizar la instancia de `KFold` en el parámetro `cv` como cross-validation strategy, en lugar de solo indicarle el número de folds, obtenemos un mejor rendimiento del modelo."
   ]
  },
  {
   "cell_type": "markdown",
   "id": "afa8807e",
   "metadata": {},
   "source": [
    "El método `split` de la clase `KFold` nos devuelve los \"folds\" con los indices de los datos con que se entrena y prueba el modelo."
   ]
  },
  {
   "cell_type": "code",
   "execution_count": 7,
   "id": "9ee169e5",
   "metadata": {},
   "outputs": [
    {
     "name": "stdout",
     "output_type": "stream",
     "text": [
      "train:\n",
      "[  0   1   2   3   4   5   6   7   8  10  11  13  14  16  17  20  21  22\n",
      "  23  25  26  27  28  32  33  34  35  36  37  38  39  40  41  43  44  46\n",
      "  47  48  49  50  51  52  53  54  55  56  57  58  59  61  62  63  64  65\n",
      "  66  67  70  71  72  73  74  76  77  79  80  82  83  85  87  88  89  91\n",
      "  92  94  96  97  98  99 100 101 102 103 104 105 106 107 108 109 110 111\n",
      " 112 113 114 115 116 119 120 121 122 123 124 125 127 128 129 130 132 133\n",
      " 134 135 136 139 140 141 143 144 145 146 148 149 150 151 152 154]\n",
      "\n",
      "test:\n",
      "[  9  12  15  18  19  24  29  30  31  42  45  60  68  69  75  78  81  84\n",
      "  86  90  93  95 117 118 126 131 137 138 142 147 153]\n",
      "\n",
      "============================================================\n",
      "train:\n",
      "[  0   1   2   3   5   6   7   8   9  12  13  14  15  17  18  19  20  21\n",
      "  23  24  25  28  29  30  31  33  34  35  37  38  39  40  42  43  44  45\n",
      "  46  47  48  49  50  52  53  54  57  58  59  60  61  62  63  64  68  69\n",
      "  70  71  72  73  74  75  77  78  80  81  83  84  86  87  88  89  90  91\n",
      "  92  93  94  95  97  98  99 100 101 102 103 104 105 106 107 108 110 111\n",
      " 112 113 114 115 116 117 118 120 121 125 126 127 128 129 130 131 132 135\n",
      " 136 137 138 139 140 142 145 146 147 148 149 150 151 152 153 154]\n",
      "\n",
      "test:\n",
      "[  4  10  11  16  22  26  27  32  36  41  51  55  56  65  66  67  76  79\n",
      "  82  85  96 109 119 122 123 124 133 134 141 143 144]\n",
      "\n",
      "============================================================\n",
      "train:\n",
      "[  1   2   3   4   6   7   8   9  10  11  12  13  14  15  16  17  18  19\n",
      "  20  21  22  24  26  27  29  30  31  32  34  35  36  37  38  41  42  43\n",
      "  45  46  48  49  50  51  52  54  55  56  57  58  59  60  63  65  66  67\n",
      "  68  69  70  71  72  74  75  76  77  78  79  80  81  82  83  84  85  86\n",
      "  87  88  89  90  91  92  93  95  96  99 100 102 103 106 107 109 112 114\n",
      " 115 116 117 118 119 120 121 122 123 124 126 127 128 129 130 131 132 133\n",
      " 134 135 137 138 139 140 141 142 143 144 145 147 149 152 153 154]\n",
      "\n",
      "test:\n",
      "[  0   5  23  25  28  33  39  40  44  47  53  61  62  64  73  94  97  98\n",
      " 101 104 105 108 110 111 113 125 136 146 148 150 151]\n",
      "\n",
      "============================================================\n",
      "train:\n",
      "[  0   1   4   5   9  10  11  12  14  15  16  18  19  20  21  22  23  24\n",
      "  25  26  27  28  29  30  31  32  33  36  37  39  40  41  42  44  45  47\n",
      "  48  50  51  52  53  54  55  56  57  58  60  61  62  63  64  65  66  67\n",
      "  68  69  71  73  74  75  76  78  79  81  82  84  85  86  87  88  90  92\n",
      "  93  94  95  96  97  98  99 101 102 103 104 105 106 107 108 109 110 111\n",
      " 113 115 116 117 118 119 121 122 123 124 125 126 129 130 131 133 134 136\n",
      " 137 138 141 142 143 144 145 146 147 148 149 150 151 152 153 154]\n",
      "\n",
      "test:\n",
      "[  2   3   6   7   8  13  17  34  35  38  43  46  49  59  70  72  77  80\n",
      "  83  89  91 100 112 114 120 127 128 132 135 139 140]\n",
      "\n",
      "============================================================\n",
      "train:\n",
      "[  0   2   3   4   5   6   7   8   9  10  11  12  13  15  16  17  18  19\n",
      "  22  23  24  25  26  27  28  29  30  31  32  33  34  35  36  38  39  40\n",
      "  41  42  43  44  45  46  47  49  51  53  55  56  59  60  61  62  64  65\n",
      "  66  67  68  69  70  72  73  75  76  77  78  79  80  81  82  83  84  85\n",
      "  86  89  90  91  93  94  95  96  97  98 100 101 104 105 108 109 110 111\n",
      " 112 113 114 117 118 119 120 122 123 124 125 126 127 128 131 132 133 134\n",
      " 135 136 137 138 139 140 141 142 143 144 146 147 148 150 151 153]\n",
      "\n",
      "test:\n",
      "[  1  14  20  21  37  48  50  52  54  57  58  63  71  74  87  88  92  99\n",
      " 102 103 106 107 115 116 121 129 130 145 149 152 154]\n",
      "\n",
      "============================================================\n"
     ]
    }
   ],
   "source": [
    "for train, test in kf.split(X, y):\n",
    "  print(f\"train:\\n{train}\\n\")\n",
    "  print(f\"test:\\n{test}\\n\")\n",
    "  print(\"=\"*60)"
   ]
  }
 ],
 "metadata": {
  "kernelspec": {
   "display_name": "ml_professional",
   "language": "python",
   "name": "python3"
  },
  "language_info": {
   "codemirror_mode": {
    "name": "ipython",
    "version": 3
   },
   "file_extension": ".py",
   "mimetype": "text/x-python",
   "name": "python",
   "nbconvert_exporter": "python",
   "pygments_lexer": "ipython3",
   "version": "3.12.9"
  }
 },
 "nbformat": 4,
 "nbformat_minor": 5
}
