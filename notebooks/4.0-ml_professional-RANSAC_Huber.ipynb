{
 "cells": [
  {
   "cell_type": "markdown",
   "id": "c341f951",
   "metadata": {},
   "source": [
    "# Regresiones Robustas"
   ]
  },
  {
   "cell_type": "markdown",
   "id": "7d58a097",
   "metadata": {},
   "source": [
    "📌 Las regresiones robustas son métodos de regresión diseñados para ser **menos sensibles** a datos atípicos.\n",
    "\n",
    "🎯 Objetivo de las regresiones robustas es minimizar el impacto de los outliers en el modelo.\n",
    "\n",
    "\n",
    "**¿Cómo funcionan?**\n",
    "\n",
    "- **Función de perdida**: Utilizan funciones de perdida que penalizan errores grandes de manera menos severa.\n",
    "A diferencia de la regresión tradicional que utiliza suma de los errores al cuadrado (MSE)\n",
    "- **Reduce los pesos de los outliers**: Identifica los outliers y ajusta el modelo solo con los inliers (valores normales).\n",
    "\n",
    "\n",
    "**🟢 RANSAC (RANdom SAmple Consensus)** <br>\n",
    "Algoritmo iterativo que busca encontrar al mejor modelo que se ajuste a los datos “limpios” (inliers), ignorando a los outliers.\n",
    "\n",
    "> 💡 Deja por fuera a los valores atípicos.\n",
    "\n",
    "**¿Cómo funcionan?**\n",
    "\n",
    "1. **Selección aleatoria**: Selecciona aleatoriamente un subconjunto mínimo de datos necesarios para entrenar al modelo.\n",
    "2. **Ajuste del modelo**: Se ajusta el modelo a ese subconjunto de datos.\n",
    "3. **Evaluación**: Determina cuantos puntos del conjunto completo son inliers (dentro de un umbral de error).\n",
    "4. **Iteración**: Repite el proceso muchas veces.\n",
    "5. **Selección**: Elige el modelo con mayor número de inliers.\n",
    "\n",
    "\n",
    "**🟢 Huber Regressor** <br>\n",
    "La regresión de Huber utiliza una función de perdida híbrida que combina la suma de los errores absolutos (**L1** - **Lasso**) para errores grandes y la suma de los errores al cuadrado (**L2** - **Ridge**) para errores pequeños.\n",
    "\n",
    "> 💡 Penaliza los valores atípicos según su magnitud. \n",
    "\n",
    "**¿Cómo funcionan?**\n",
    "\n",
    "1. Errores **pequeños** ($|error| < \\epsilon$): Perdida cuadrática (mínimos cuadrados). Asegura una buena eficiencia cuando los datos no tienen outliers.\n",
    "2. Errores **grandes** ($|error| > \\epsilon$): Perdida lineal  (MAE - Minimum Absolute Error). Reduce la penalización de los outliers, haciendo al modelo menos sensible a ellos.\n",
    "\n",
    "\n",
    "Donde $\\epsilon$: Umbral que define qué tan grande debe ser el error para tratarlo como un outlier.\n",
    "\n",
    "\n",
    "> 💡 Se ha demostrado que el valor de epsilon = 1.35 logra un 95% de eficiencia estadística."
   ]
  },
  {
   "cell_type": "markdown",
   "id": "e150be49",
   "metadata": {},
   "source": [
    "## Implementación con Scikit-Learn"
   ]
  },
  {
   "cell_type": "markdown",
   "id": "c8d91589",
   "metadata": {},
   "source": [
    "<div class=\"alert alert-info\", role=\"alert\">\n",
    "    <h5>⚠️</h5>\n",
    "    <p>\n",
    "      El ejemplo desglosado a continuación sigue paso a paso la implementación que se realizó en el curso, solo con unos detalles adicionales. <br>\n",
    "\t\t\tEspecificamente en la clase <a href=\"https://platzi.com/cursos/scikitlearn/preparacion-de-datos-para-la-regresion-robusta/\"> \n",
    "\t\t\t\tRegresión Lineal y Sorporte Vectorial: Manejo de Datos Atípicos</a>\n",
    "\t\t\t\t<br>\n",
    "\t\t\t\t🎯 El objetivo del ejercicio es comparar diferetnes tipso de regresiones robustas, para llevarlo a cabo se utiliza el dataset World Happiness del año 2017; sin embargo el dataset se alteró para añadirle ruido (datos atípicos) por cuestiones didacticas para el ejercicio.\n",
    "    </p>\n",
    "</div>"
   ]
  },
  {
   "cell_type": "markdown",
   "id": "4dd7d9c6",
   "metadata": {},
   "source": [
    "Librerias"
   ]
  },
  {
   "cell_type": "code",
   "execution_count": 1,
   "id": "05505c47",
   "metadata": {},
   "outputs": [],
   "source": [
    "import pandas as pd\n",
    "import numpy as np\n",
    "import matplotlib.pyplot as plt\n",
    "\n",
    "# Regresiones robustas\n",
    "from sklearn.linear_model import RANSACRegressor, HuberRegressor\n",
    "from sklearn.svm import SVR\n",
    "\n",
    "# Separación de los datos en entrenamiento y pruebas\n",
    "from sklearn.model_selection import train_test_split\n",
    "\n",
    "# Fución de perdida -> Calcular el error del modelo.\n",
    "from sklearn.metrics import mean_squared_error"
   ]
  },
  {
   "cell_type": "code",
   "execution_count": 2,
   "id": "f2896c5a",
   "metadata": {},
   "outputs": [],
   "source": [
    "%run 0.0-ml_professional-setup.ipynb"
   ]
  },
  {
   "cell_type": "markdown",
   "id": "93428854",
   "metadata": {},
   "source": [
    "Importamos los datos de valores atípicos para el ejercicio."
   ]
  },
  {
   "cell_type": "code",
   "execution_count": 3,
   "id": "d1824207",
   "metadata": {},
   "outputs": [],
   "source": [
    "file_path = path.data_raw_dir(\"2017.csv\")\n",
    "df = pd.read_csv(file_path)\n",
    "\n",
    "df.columns = [\"country\",\"rank\",\"score\",\"high\",\"low\",\"gdp\",\"family\",\"lifexp\",\"freedom\",\"generosity\",\"corruption\",\"dystopia\"]"
   ]
  },
  {
   "cell_type": "code",
   "execution_count": 4,
   "id": "5dadb484",
   "metadata": {},
   "outputs": [
    {
     "data": {
      "text/html": [
       "<div>\n",
       "<style scoped>\n",
       "    .dataframe tbody tr th:only-of-type {\n",
       "        vertical-align: middle;\n",
       "    }\n",
       "\n",
       "    .dataframe tbody tr th {\n",
       "        vertical-align: top;\n",
       "    }\n",
       "\n",
       "    .dataframe thead th {\n",
       "        text-align: right;\n",
       "    }\n",
       "</style>\n",
       "<table border=\"1\" class=\"dataframe\">\n",
       "  <thead>\n",
       "    <tr style=\"text-align: right;\">\n",
       "      <th></th>\n",
       "      <th>country</th>\n",
       "      <th>rank</th>\n",
       "      <th>score</th>\n",
       "      <th>high</th>\n",
       "      <th>low</th>\n",
       "      <th>gdp</th>\n",
       "      <th>family</th>\n",
       "      <th>lifexp</th>\n",
       "      <th>freedom</th>\n",
       "      <th>generosity</th>\n",
       "      <th>corruption</th>\n",
       "      <th>dystopia</th>\n",
       "    </tr>\n",
       "  </thead>\n",
       "  <tbody>\n",
       "    <tr>\n",
       "      <th>162</th>\n",
       "      <td>H</td>\n",
       "      <td>163</td>\n",
       "      <td>0.0</td>\n",
       "      <td>0.0</td>\n",
       "      <td>0.0</td>\n",
       "      <td>0.0</td>\n",
       "      <td>0.0</td>\n",
       "      <td>0.0</td>\n",
       "      <td>0.0</td>\n",
       "      <td>0.0</td>\n",
       "      <td>0.0</td>\n",
       "      <td>0.0</td>\n",
       "    </tr>\n",
       "    <tr>\n",
       "      <th>163</th>\n",
       "      <td>I</td>\n",
       "      <td>164</td>\n",
       "      <td>0.0</td>\n",
       "      <td>0.0</td>\n",
       "      <td>0.0</td>\n",
       "      <td>0.0</td>\n",
       "      <td>0.0</td>\n",
       "      <td>0.0</td>\n",
       "      <td>0.0</td>\n",
       "      <td>0.0</td>\n",
       "      <td>0.0</td>\n",
       "      <td>0.0</td>\n",
       "    </tr>\n",
       "    <tr>\n",
       "      <th>164</th>\n",
       "      <td>J</td>\n",
       "      <td>165</td>\n",
       "      <td>0.0</td>\n",
       "      <td>0.0</td>\n",
       "      <td>0.0</td>\n",
       "      <td>0.0</td>\n",
       "      <td>0.0</td>\n",
       "      <td>0.0</td>\n",
       "      <td>0.0</td>\n",
       "      <td>0.0</td>\n",
       "      <td>0.0</td>\n",
       "      <td>0.0</td>\n",
       "    </tr>\n",
       "    <tr>\n",
       "      <th>165</th>\n",
       "      <td>K</td>\n",
       "      <td>166</td>\n",
       "      <td>0.0</td>\n",
       "      <td>0.0</td>\n",
       "      <td>0.0</td>\n",
       "      <td>0.0</td>\n",
       "      <td>0.0</td>\n",
       "      <td>0.0</td>\n",
       "      <td>0.0</td>\n",
       "      <td>0.0</td>\n",
       "      <td>0.0</td>\n",
       "      <td>0.0</td>\n",
       "    </tr>\n",
       "    <tr>\n",
       "      <th>166</th>\n",
       "      <td>L</td>\n",
       "      <td>167</td>\n",
       "      <td>0.0</td>\n",
       "      <td>0.0</td>\n",
       "      <td>0.0</td>\n",
       "      <td>0.0</td>\n",
       "      <td>0.0</td>\n",
       "      <td>0.0</td>\n",
       "      <td>0.0</td>\n",
       "      <td>0.0</td>\n",
       "      <td>0.0</td>\n",
       "      <td>0.0</td>\n",
       "    </tr>\n",
       "  </tbody>\n",
       "</table>\n",
       "</div>"
      ],
      "text/plain": [
       "    country  rank  score  high  low  gdp  family  lifexp  freedom  generosity  \\\n",
       "162       H   163    0.0   0.0  0.0  0.0     0.0     0.0      0.0         0.0   \n",
       "163       I   164    0.0   0.0  0.0  0.0     0.0     0.0      0.0         0.0   \n",
       "164       J   165    0.0   0.0  0.0  0.0     0.0     0.0      0.0         0.0   \n",
       "165       K   166    0.0   0.0  0.0  0.0     0.0     0.0      0.0         0.0   \n",
       "166       L   167    0.0   0.0  0.0  0.0     0.0     0.0      0.0         0.0   \n",
       "\n",
       "     corruption  dystopia  \n",
       "162         0.0       0.0  \n",
       "163         0.0       0.0  \n",
       "164         0.0       0.0  \n",
       "165         0.0       0.0  \n",
       "166         0.0       0.0  "
      ]
     },
     "execution_count": 4,
     "metadata": {},
     "output_type": "execute_result"
    }
   ],
   "source": [
    "corrupted = {\n",
    "\t\"country\": [\"A\",\"B\",\"C\",\"D\",\"E\",\"F\",\"G\",\"H\",\"I\",\"J\",\"K\",\"L\"],\n",
    "\t\"rank\": np.arange(start=len(df)+1, stop=len(df)+13),\n",
    "\t\"score\": np.zeros(12),\n",
    "\t\"high\": np.zeros(12),\n",
    "\t\"low\": np.zeros(12),\n",
    "\t\"gdp\": np.zeros(12),\n",
    "\t\"family\": np.zeros(12),\n",
    "\t\"lifexp\": np.zeros(12),\n",
    "\t\"freedom\": np.zeros(12),\n",
    "\t\"generosity\": np.zeros(12),\n",
    "\t\"corruption\": np.zeros(12),\n",
    "\t\"dystopia\": np.zeros(12)\n",
    "}\n",
    "df_corrupted = pd.concat([df, pd.DataFrame(corrupted)], ignore_index=True)\n",
    "df_corrupted.tail()"
   ]
  },
  {
   "cell_type": "markdown",
   "id": "b8fa98d4",
   "metadata": {},
   "source": [
    "Preparación de los datos para entrenar a los modelos:"
   ]
  },
  {
   "cell_type": "code",
   "execution_count": 5,
   "id": "b62e945c",
   "metadata": {},
   "outputs": [],
   "source": [
    "X = df_corrupted.drop(columns=[\"country\", \"score\"], axis=1)\n",
    "y = df_corrupted[[\"score\"]]\n",
    "\n",
    "X_train, X_test, y_train, y_test = train_test_split(X,y, test_size=.3, random_state=42)"
   ]
  },
  {
   "cell_type": "markdown",
   "id": "baca4f50",
   "metadata": {},
   "source": [
    "Creamos los estimadores:"
   ]
  },
  {
   "cell_type": "code",
   "execution_count": 6,
   "id": "97cedcae",
   "metadata": {},
   "outputs": [],
   "source": [
    "estimators = {\n",
    "\t\"RANSAC\": RANSACRegressor(),\n",
    "\t\"Huber\": HuberRegressor(epsilon=1.3),\n",
    "\t\"SVR\": SVR(gamma=\"auto\", C=1, epsilon=.1)\n",
    "}"
   ]
  },
  {
   "cell_type": "markdown",
   "id": "d88b6a20",
   "metadata": {},
   "source": [
    "Entrenamiento y evaluación:"
   ]
  },
  {
   "cell_type": "code",
   "execution_count": 7,
   "id": "90ce5a78",
   "metadata": {},
   "outputs": [],
   "source": [
    "# Ocultar warnings\n",
    "import warnings\n",
    "warnings.simplefilter(\"ignore\")"
   ]
  },
  {
   "cell_type": "code",
   "execution_count": 8,
   "id": "4bb2bbbd",
   "metadata": {},
   "outputs": [
    {
     "name": "stdout",
     "output_type": "stream",
     "text": [
      "================ RANSAC ================\n",
      "Error: 5.1593582983882794e-26\n",
      "\n",
      "================ Huber =================\n",
      "Error: 8.216032972447973e-07\n",
      "\n",
      "================= SVR ==================\n",
      "Error: 0.07455771298700416\n",
      "\n"
     ]
    },
    {
     "data": {
      "image/png": "[encoded data removed]",
      "text/plain": [
       "<Figure size 1500x500 with 3 Axes>"
      ]
     },
     "metadata": {},
     "output_type": "display_data"
    }
   ],
   "source": [
    "fig, axes = plt.subplots(nrows=1, ncols=3, figsize=(15,5))\n",
    "\n",
    "for estimator, ax in zip(estimators.items(), axes):\n",
    "  name, est = estimator\n",
    "  est.fit(X_train, y_train)\n",
    "  prediction = est.predict(X_test)\n",
    "  \n",
    "  # Metricas\n",
    "  error = mean_squared_error(y_test, prediction)\n",
    "  print(f\" {name} \".center(40, \"=\"))\n",
    "  print(f\"Error: {error}\\n\")\n",
    "  \n",
    "  ax.scatter(y_test, prediction)\n",
    "  ax.plot(prediction, prediction, \"r\")\n",
    "  ax.set_xlabel(\"Real score\")\n",
    "  ax.set_ylabel(\"Predicted score\")\n",
    "  ax.set_title(f\"{name} Regressor\")"
   ]
  },
  {
   "cell_type": "markdown",
   "id": "c7e860be",
   "metadata": {},
   "source": [
    "De los estimadores, o regresiones robustas implementadas, RASNSAC fue la que obtuvó un error mucho más bajo que Huber y SVR, al menos para este ejemplo, la mejor regresión robusta fue RANSAC.\n",
    "\n",
    "\n",
    "Es importante siempre estar atentos a los outliers que puedan llegar a tener nuestros datos, y en como estos pueden llegar a afectar el rendimiento del modelo es crucial para obtener modelos fiables."
   ]
  }
 ],
 "metadata": {
  "kernelspec": {
   "display_name": "ml_professional",
   "language": "python",
   "name": "python3"
  },
  "language_info": {
   "codemirror_mode": {
    "name": "ipython",
    "version": 3
   },
   "file_extension": ".py",
   "mimetype": "text/x-python",
   "name": "python",
   "nbconvert_exporter": "python",
   "pygments_lexer": "ipython3",
   "version": "3.12.9"
  }
 },
 "nbformat": 4,
 "nbformat_minor": 5
}
