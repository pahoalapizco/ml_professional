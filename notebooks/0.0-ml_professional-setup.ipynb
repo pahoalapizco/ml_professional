{
 "cells": [
  {
   "cell_type": "markdown",
   "id": "6e82a160",
   "metadata": {},
   "source": [
    "# 0.0.- Setup"
   ]
  },
  {
   "cell_type": "markdown",
   "id": "3943cbd5",
   "metadata": {},
   "source": [
    "Utilizar los modulos propios del proyecto dentro de los notebooks:"
   ]
  },
  {
   "cell_type": "code",
   "execution_count": null,
   "id": "6fa2c1f1",
   "metadata": {},
   "outputs": [],
   "source": [
    "%load_ext autoreload\n",
    "%autoreload 2"
   ]
  },
  {
   "cell_type": "markdown",
   "id": "f05c2465",
   "metadata": {},
   "source": [
    "Importamos los modulos propios del proyecto para que spuedan utilizarse en cada uno de los notebooks sin reescribir código:"
   ]
  },
  {
   "cell_type": "code",
   "execution_count": null,
   "id": "3c54ec6f",
   "metadata": {},
   "outputs": [],
   "source": [
    "import sys\n",
    "sys.path.append(\"..\")\n",
    "import modules.utils.paths as path\n",
    "from modules.utils.download_data import download_data"
   ]
  },
  {
   "cell_type": "code",
   "execution_count": null,
   "id": "97d5d208",
   "metadata": {},
   "outputs": [],
   "source": []
  }
 ],
 "metadata": {
  "language_info": {
   "name": "python"
  }
 },
 "nbformat": 4,
 "nbformat_minor": 5
}
