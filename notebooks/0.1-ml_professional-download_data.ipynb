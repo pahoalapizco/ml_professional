{
 "cells": [
  {
   "cell_type": "markdown",
   "id": "fa6e3a2d",
   "metadata": {},
   "source": [
    "# 0. Descarga de los Datasets"
   ]
  },
  {
   "cell_type": "markdown",
   "id": "c9bfff86",
   "metadata": {},
   "source": [
    "Corremos el setup:"
   ]
  },
  {
   "cell_type": "code",
   "execution_count": 1,
   "id": "876dc278",
   "metadata": {},
   "outputs": [],
   "source": [
    "%run 0.0-ml_professional-setup.ipynb"
   ]
  },
  {
   "cell_type": "markdown",
   "id": "de51f890",
   "metadata": {},
   "source": [
    "Descargamos los datos con `curl`"
   ]
  },
  {
   "cell_type": "markdown",
   "id": "1dc9eabb",
   "metadata": {},
   "source": [
    "The Ultimate Halloween Candy Power Ranking:"
   ]
  },
  {
   "cell_type": "code",
   "execution_count": 2,
   "id": "f9fb9e12",
   "metadata": {},
   "outputs": [
    {
     "name": "stdout",
     "output_type": "stream",
     "text": [
      "Descargando dataset desde https://www.kaggle.com/api/v1/datasets/download/fivethirtyeight/the-ultimate-halloween-candy-power-ranking...\n"
     ]
    },
    {
     "name": "stderr",
     "output_type": "stream",
     "text": [
      "  % Total    % Received % Xferd  Average Speed   Time    Time     Time  Current\n",
      "                                 Dload  Upload   Total   Spent    Left  Speed\n",
      "  0     0    0     0    0     0      0      0 --:--:-- --:--:-- --:--:--     0"
     ]
    },
    {
     "name": "stdout",
     "output_type": "stream",
     "text": [
      "Descarga completada.\n",
      "Descomprimiendo archivo en /home/pahoalapizco/ds-projects/ml_professional/data/raw...\n",
      "Archive:  /home/pahoalapizco/ds-projects/ml_professional/data/raw/halloween-candy.zip\n",
      "  inflating: /home/pahoalapizco/ds-projects/ml_professional/data/raw/candy-data.csv  \n",
      "Descompresión completada.\n",
      "Dataset disponible en: /home/pahoalapizco/ds-projects/ml_professional/data/raw\n",
      "Eliminando zip descargados en /home/pahoalapizco/ds-projects/ml_professional/data/raw...\n",
      "Archivo eliminado.\n"
     ]
    },
    {
     "name": "stderr",
     "output_type": "stream",
     "text": [
      "  0     0    0     0    0     0      0      0 --:--:-- --:--:-- --:--:--     0\n",
      "100  2106  100  2106    0     0   4515      0 --:--:-- --:--:-- --:--:--  4515\n"
     ]
    }
   ],
   "source": [
    "download_data(\n",
    "  \"https://www.kaggle.com/api/v1/datasets/download/fivethirtyeight/the-ultimate-halloween-candy-power-ranking\",\n",
    "  \"halloween-candy.zip\",\n",
    "  path.data_raw_dir()\n",
    ")"
   ]
  },
  {
   "cell_type": "markdown",
   "id": "d9d5e453",
   "metadata": {},
   "source": [
    "World Happiness"
   ]
  },
  {
   "cell_type": "code",
   "execution_count": 3,
   "id": "2cd20f3c",
   "metadata": {},
   "outputs": [
    {
     "name": "stderr",
     "output_type": "stream",
     "text": [
      "  % Total    % Received % Xferd  Average Speed   Time    Time     Time  Current\n",
      "                                 Dload  Upload   Total   Spent    Left  Speed\n",
      "  0     0    0     0    0     0      0      0 --:--:-- --:--:-- --:--:--     0"
     ]
    },
    {
     "name": "stdout",
     "output_type": "stream",
     "text": [
      "Descargando dataset desde https://www.kaggle.com/api/v1/datasets/download/unsdsn/world-happiness...\n",
      "Descarga completada.\n",
      "Descomprimiendo archivo en /home/pahoalapizco/ds-projects/ml_professional/data/raw...\n",
      "Archive:  /home/pahoalapizco/ds-projects/ml_professional/data/raw/world-happiness.zip\n",
      "  inflating: /home/pahoalapizco/ds-projects/ml_professional/data/raw/2015.csv  \n",
      "  inflating: /home/pahoalapizco/ds-projects/ml_professional/data/raw/2016.csv  \n",
      "  inflating: /home/pahoalapizco/ds-projects/ml_professional/data/raw/2017.csv  \n",
      "  inflating: /home/pahoalapizco/ds-projects/ml_professional/data/raw/2018.csv  \n",
      "  inflating: /home/pahoalapizco/ds-projects/ml_professional/data/raw/2019.csv  \n",
      "Descompresión completada.\n",
      "Dataset disponible en: /home/pahoalapizco/ds-projects/ml_professional/data/raw\n",
      "Eliminando zip descargados en /home/pahoalapizco/ds-projects/ml_professional/data/raw...\n",
      "Archivo eliminado.\n"
     ]
    },
    {
     "name": "stderr",
     "output_type": "stream",
     "text": [
      "  0     0    0     0    0     0      0      0 --:--:-- --:--:-- --:--:--     0\n",
      "100 37692  100 37692    0     0  75380      0 --:--:-- --:--:-- --:--:-- 75380\n"
     ]
    }
   ],
   "source": [
    "download_data(\n",
    "  \"https://www.kaggle.com/api/v1/datasets/download/unsdsn/world-happiness\",\n",
    "  \"world-happiness.zip\",\n",
    "  path.data_raw_dir()\n",
    ")"
   ]
  },
  {
   "cell_type": "markdown",
   "id": "37b7918e",
   "metadata": {},
   "source": [
    "Heart Disease"
   ]
  },
  {
   "cell_type": "code",
   "execution_count": 4,
   "id": "35d31f50",
   "metadata": {},
   "outputs": [
    {
     "name": "stderr",
     "output_type": "stream",
     "text": [
      "  % Total    % Received % Xferd  Average Speed   Time    Time     Time  Current\n",
      "                                 Dload  Upload   Total   Spent    Left  Speed\n",
      "  0     0    0     0    0     0      0      0 --:--:-- --:--:-- --:--:--     0"
     ]
    },
    {
     "name": "stdout",
     "output_type": "stream",
     "text": [
      "Descargando dataset desde https://www.kaggle.com/api/v1/datasets/download/johnsmith88/heart-disease-dataset...\n"
     ]
    },
    {
     "name": "stderr",
     "output_type": "stream",
     "text": [
      "  0     0    0     0    0     0      0      0 --:--:-- --:--:-- --:--:--     0\n"
     ]
    },
    {
     "name": "stdout",
     "output_type": "stream",
     "text": [
      "Descarga completada.\n",
      "Descomprimiendo archivo en /home/pahoalapizco/ds-projects/ml_professional/data/raw...\n",
      "Archive:  /home/pahoalapizco/ds-projects/ml_professional/data/raw/heart-disease.zip\n",
      "  inflating: /home/pahoalapizco/ds-projects/ml_professional/data/raw/heart.csv  \n",
      "Descompresión completada.\n",
      "Dataset disponible en: /home/pahoalapizco/ds-projects/ml_professional/data/raw\n",
      "Eliminando zip descargados en /home/pahoalapizco/ds-projects/ml_professional/data/raw...\n",
      "Archivo eliminado.\n"
     ]
    },
    {
     "name": "stderr",
     "output_type": "stream",
     "text": [
      "100  6325  100  6325    0     0  11453      0 --:--:-- --:--:-- --:--:-- 11453\n"
     ]
    }
   ],
   "source": [
    "download_data(\n",
    "  \"https://www.kaggle.com/api/v1/datasets/download/johnsmith88/heart-disease-dataset\",\n",
    "  \"heart-disease.zip\",\n",
    "  path.data_raw_dir()\n",
    ")"
   ]
  },
  {
   "cell_type": "code",
   "execution_count": null,
   "id": "67da67e4",
   "metadata": {},
   "outputs": [],
   "source": []
  }
 ],
 "metadata": {
  "kernelspec": {
   "display_name": "ml_professional",
   "language": "python",
   "name": "python3"
  },
  "language_info": {
   "codemirror_mode": {
    "name": "ipython",
    "version": 3
   },
   "file_extension": ".py",
   "mimetype": "text/x-python",
   "name": "python",
   "nbconvert_exporter": "python",
   "pygments_lexer": "ipython3",
   "version": "3.12.9"
  }
 },
 "nbformat": 4,
 "nbformat_minor": 5
}
